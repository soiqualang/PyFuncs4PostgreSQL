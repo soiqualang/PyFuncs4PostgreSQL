{
  "nbformat": 4,
  "nbformat_minor": 0,
  "metadata": {
    "colab": {
      "name": "Get_geotiff_extent.ipynb",
      "provenance": [],
      "collapsed_sections": [],
      "include_colab_link": true
    },
    "kernelspec": {
      "name": "python3",
      "display_name": "Python 3"
    }
  },
  "cells": [
    {
      "cell_type": "markdown",
      "metadata": {
        "id": "view-in-github",
        "colab_type": "text"
      },
      "source": [
        "<a href=\"https://colab.research.google.com/github/soiqualang/PyFuncs4PostgreSQL/blob/master/Get_geotiff_extent.ipynb\" target=\"_parent\"><img src=\"https://colab.research.google.com/assets/colab-badge.svg\" alt=\"Open In Colab\"/></a>"
      ]
    },
    {
      "cell_type": "markdown",
      "metadata": {
        "id": "BzDIsDDDq0SL",
        "colab_type": "text"
      },
      "source": [
        "https://pcjericks.github.io/py-gdalogr-cookbook/geometry.html\n",
        "\n",
        "> Phải dùng hàm của PostgreSQl để get geometry string"
      ]
    },
    {
      "cell_type": "code",
      "metadata": {
        "id": "LIABujDpZerG",
        "colab_type": "code",
        "outputId": "2c009deb-cd6b-47e4-b4ae-f3d5f8d801b8",
        "colab": {
          "base_uri": "https://localhost:8080/",
          "height": 204
        }
      },
      "source": [
        "!wget http://dev.dothanhlong.org/download/lu_20181202.tif"
      ],
      "execution_count": 1,
      "outputs": [
        {
          "output_type": "stream",
          "text": [
            "--2019-11-07 01:59:10--  http://dev.dothanhlong.org/download/lu_20181202.tif\n",
            "Resolving dev.dothanhlong.org (dev.dothanhlong.org)... 139.99.46.176\n",
            "Connecting to dev.dothanhlong.org (dev.dothanhlong.org)|139.99.46.176|:80... connected.\n",
            "HTTP request sent, awaiting response... 200 OK\n",
            "Length: 38503549 (37M) [image/tiff]\n",
            "Saving to: ‘lu_20181202.tif’\n",
            "\n",
            "lu_20181202.tif     100%[===================>]  36.72M  11.5MB/s    in 3.4s    \n",
            "\n",
            "2019-11-07 01:59:14 (11.0 MB/s) - ‘lu_20181202.tif’ saved [38503549/38503549]\n",
            "\n"
          ],
          "name": "stdout"
        }
      ]
    },
    {
      "cell_type": "code",
      "metadata": {
        "id": "BgSEHX28dJzC",
        "colab_type": "code",
        "outputId": "2f2b7977-e95f-4b96-8423-f08f2d0e36ab",
        "colab": {
          "base_uri": "https://localhost:8080/",
          "height": 204
        }
      },
      "source": [
        "!wget http://dev.dothanhlong.org/download/HoChiMinhIMAGES_20140326_BLST.TIF"
      ],
      "execution_count": 2,
      "outputs": [
        {
          "output_type": "stream",
          "text": [
            "--2019-11-07 01:59:39--  http://dev.dothanhlong.org/download/HoChiMinhIMAGES_20140326_BLST.TIF\n",
            "Resolving dev.dothanhlong.org (dev.dothanhlong.org)... 139.99.46.176\n",
            "Connecting to dev.dothanhlong.org (dev.dothanhlong.org)|139.99.46.176|:80... connected.\n",
            "HTTP request sent, awaiting response... 200 OK\n",
            "Length: 28181748 (27M) [image/tiff]\n",
            "Saving to: ‘HoChiMinhIMAGES_20140326_BLST.TIF’\n",
            "\n",
            "HoChiMinhIMAGES_201 100%[===================>]  26.88M  10.7MB/s    in 2.5s    \n",
            "\n",
            "2019-11-07 01:59:42 (10.7 MB/s) - ‘HoChiMinhIMAGES_20140326_BLST.TIF’ saved [28181748/28181748]\n",
            "\n"
          ],
          "name": "stdout"
        }
      ]
    },
    {
      "cell_type": "code",
      "metadata": {
        "id": "oaMkZT7NuBdD",
        "colab_type": "code",
        "colab": {
          "base_uri": "https://localhost:8080/",
          "height": 34
        },
        "outputId": "43dfe961-a360-44d3-e5aa-16447a41ed53"
      },
      "source": [
        "!pip install psycopg2"
      ],
      "execution_count": 27,
      "outputs": [
        {
          "output_type": "stream",
          "text": [
            "Requirement already satisfied: psycopg2 in /usr/local/lib/python3.6/dist-packages (2.7.6.1)\n"
          ],
          "name": "stdout"
        }
      ]
    },
    {
      "cell_type": "code",
      "metadata": {
        "id": "aP3ggeFHcWHj",
        "colab_type": "code",
        "colab": {}
      },
      "source": [
        "import gdal\n",
        "from gdalconst import GA_ReadOnly\n",
        "from osgeo import ogr\n",
        "import connectPostgres\n",
        "db = connectPostgres.config(section = 'postgresql1')"
      ],
      "execution_count": 0,
      "outputs": []
    },
    {
      "cell_type": "code",
      "metadata": {
        "id": "d0Yq2by4czSJ",
        "colab_type": "code",
        "outputId": "2b1896ba-3cc8-4725-ff0d-d7918bd59e0a",
        "colab": {
          "base_uri": "https://localhost:8080/",
          "height": 34
        }
      },
      "source": [
        "data = gdal.Open('HoChiMinhIMAGES_20140326_BLST.TIF', GA_ReadOnly)\n",
        "geoTransform = data.GetGeoTransform()\n",
        "minx = geoTransform[0]\n",
        "maxy = geoTransform[3]\n",
        "maxx = minx + geoTransform[1] * data.RasterXSize\n",
        "miny = maxy + geoTransform[5] * data.RasterYSize\n",
        "print(minx)\n",
        "#print [minx, miny, maxx, maxy]\n",
        "#data = None"
      ],
      "execution_count": 29,
      "outputs": [
        {
          "output_type": "stream",
          "text": [
            "648225.0\n"
          ],
          "name": "stdout"
        }
      ]
    },
    {
      "cell_type": "code",
      "metadata": {
        "id": "k70PeWgErwHy",
        "colab_type": "code",
        "colab": {
          "base_uri": "https://localhost:8080/",
          "height": 54
        },
        "outputId": "db253db2-e947-464c-b6f9-33212cd08617"
      },
      "source": [
        "the_geom = connectPostgres.getGeom(db,minx,miny,maxx,maxy,32648)\n",
        "print(the_geom)"
      ],
      "execution_count": 33,
      "outputs": [
        {
          "output_type": "stream",
          "text": [
            "0103000020887F000001000000050000000000000042C8234100000000118331410000000042C823410000000055D43241000000008A0526410000000055D43241000000008A05264100000000118331410000000042C823410000000011833141\n"
          ],
          "name": "stdout"
        }
      ]
    },
    {
      "cell_type": "code",
      "metadata": {
        "id": "bVCzhdYkuR8C",
        "colab_type": "code",
        "colab": {}
      },
      "source": [
        ""
      ],
      "execution_count": 0,
      "outputs": []
    }
  ]
}